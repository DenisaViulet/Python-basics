{
 "cells": [
  {
   "cell_type": "code",
   "execution_count": 47,
   "metadata": {},
   "outputs": [],
   "source": [
    "import matplotlib.pyplot as plt\n",
    "from typing import List, Tuple\n",
    "import numpy"
   ]
  },
  {
   "cell_type": "code",
   "execution_count": 48,
   "metadata": {},
   "outputs": [],
   "source": [
    "def cal_pop_fitness(pop1,pop2):\n",
    "    fitness = abs(5*pop1**2*pop2-2.5*pop1**2-2*pop2-0.5*pop1**4-pop2**4)+1\n",
    "    return fitness\n",
    "\n",
    "def select_mating_pool(pop, fitness, num_parents):\n",
    "    parents = numpy.empty((num_parents, pop.shape[1]))\n",
    "    for parent_num in range(num_parents):\n",
    "        max_fitness_idx = numpy.where(fitness == numpy.max(fitness))\n",
    "        max_fitness_idx = max_fitness_idx[0][0]\n",
    "        parents[parent_num, :] = pop[max_fitness_idx, :]\n",
    "    return parents\n",
    "\n",
    "def crossover(parents, offspring_size):\n",
    "    offspring = numpy.empty(offspring_size)\n",
    "    crossover_point = numpy.uint8(offspring_size[1]/2)\n",
    "\n",
    "    for k in range(offspring_size[0]):\n",
    "        parent1_idx = k%parents.shape[0]\n",
    "        parent2_idx = (k+1)%parents.shape[0]\n",
    "        offspring[k, 0:crossover_point] = parents[parent1_idx, 0:crossover_point]\n",
    "        offspring[k, crossover_point:] = parents[parent2_idx, crossover_point:]\n",
    "    return offspring\n",
    "\n",
    "def mutation(offspring_crossover):\n",
    "    for idx in range(offspring_crossover.shape[0]):\n",
    "        random_value = numpy.random.uniform(-1.0, 1.0, 1)\n",
    "        offspring_crossover[idx, 1] = offspring_crossover[idx, 1] + random_value\n",
    "    return offspring_crossover"
   ]
  },
  {
   "cell_type": "code",
   "execution_count": 49,
   "metadata": {},
   "outputs": [],
   "source": [
    "num_weights = 2\n",
    "sol_per_pop = 10\n",
    "num_parents_mating = 2\n",
    "f=open(\"GeneticAlg.txt\",\"a\")\n",
    "\n",
    "pop_size = (sol_per_pop,num_weights) \n",
    "new_population = numpy.random.uniform(low=-2.0, high=2.0, size=pop_size)\n",
    "\n",
    "##print('#inceput date generatie 0',file=f)\n",
    "##for i in range(sol_per_pop):\n",
    "##    print('x=',new_population[i][0],', y=',new_population[i][1],file=f)\n",
    "##print('#sfarsit date generatie 0\\n',file=f)\n",
    "\n",
    "num_generations = 6"
   ]
  },
  {
   "cell_type": "code",
   "execution_count": 50,
   "metadata": {},
   "outputs": [],
   "source": [
    "for generations in range(num_generations):\n",
    "    print(\"#inceput date generatie:\", generations,file=f)\n",
    "    for generation in range(num_generations):\n",
    "        for i in range (sol_per_pop):\n",
    "            fitness=cal_pop_fitness(new_population[i][0],new_population[i][1])\n",
    "            fitness=round(fitness,6)\n",
    "            print('cromozom: x=',new_population[i][0],', y=',new_population[i][1],file=f)\n",
    "            print('valoare:', fitness,file=f)\n",
    "        parents = select_mating_pool(new_population, fitness, 2)\n",
    "        offspring_crossover = crossover(parents,offspring_size=(pop_size[0]-parents.shape[0], num_weights))\n",
    "\n",
    "        offspring_mutation = mutation(offspring_crossover)\n",
    "\n",
    "        new_population[0:parents.shape[0], :] = parents\n",
    "        new_population[parents.shape[0]:, :] = offspring_mutation\n",
    "                \n",
    "    print(\"#sfarsit date generatie:\", generations,'\\n',file=f)\n",
    "f.close()"
   ]
  }
 ],
 "metadata": {
  "kernelspec": {
   "display_name": "Python 3",
   "language": "python",
   "name": "python3"
  },
  "language_info": {
   "codemirror_mode": {
    "name": "ipython",
    "version": 3
   },
   "file_extension": ".py",
   "mimetype": "text/x-python",
   "name": "python",
   "nbconvert_exporter": "python",
   "pygments_lexer": "ipython3",
   "version": "3.7.4"
  }
 },
 "nbformat": 4,
 "nbformat_minor": 2
}
